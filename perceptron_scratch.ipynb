{
 "cells": [
  {
   "cell_type": "markdown",
   "id": "f1c15a80-f3a8-4473-98ac-2ca9a315cb42",
   "metadata": {},
   "source": [
    "### Import Necessary Libraries"
   ]
  },
  {
   "cell_type": "code",
   "execution_count": 1,
   "id": "46aa6066-bed2-4fe9-b2aa-e44be611cf0e",
   "metadata": {},
   "outputs": [],
   "source": [
    "import numpy as np\n",
    "import pandas as pd\n",
    "from sklearn.datasets import load_svmlight_file\n",
    "from sklearn.model_selection import train_test_split\n",
    "from sklearn.metrics import classification_report\n",
    "from sklearn.preprocessing import StandardScaler\n",
    "import matplotlib.pyplot as plt"
   ]
  },
  {
   "cell_type": "markdown",
   "id": "89b95fd9-37ef-45f2-aadb-2fcb188e4c17",
   "metadata": {},
   "source": [
    "### Perceptron Class"
   ]
  },
  {
   "cell_type": "code",
   "execution_count": 2,
   "id": "bc1364b3-c5fe-4d16-b3e9-17025c62c5e3",
   "metadata": {},
   "outputs": [],
   "source": [
    "class Perceptron:\n",
    "    def __init__(self, learning_rate=0.01, num_epochs=1000, early_stopping_patience=5):\n",
    "        self.learning_rate = learning_rate\n",
    "        self.num_epochs = num_epochs\n",
    "        self.early_stopping_patience = early_stopping_patience\n",
    "        self.weights = None\n",
    "        self.bias = None\n",
    "        self.misclassifications_ = []\n",
    "\n",
    "    def fit(self, X, y):\n",
    "        n_samples, n_features = X.shape\n",
    "        self.weights = np.random.randn(n_features) * 0.01\n",
    "        self.bias = 0\n",
    "        \n",
    "        # To store the best weights and bias\n",
    "        best_weights = None\n",
    "        best_bias = None\n",
    "        best_epoch = 0\n",
    "        min_misclassifications = float('inf')\n",
    "\n",
    "        # To trigger early stopping\n",
    "        patience = 0\n",
    "\n",
    "        for epoch in range(1, self.num_epochs+1):\n",
    "            misclassifications = 0\n",
    "            \n",
    "            for idx, xi in enumerate(X):\n",
    "                linear_output = np.dot(xi, self.weights) + self.bias\n",
    "                y_predicted = self._activation(linear_output)\n",
    "                \n",
    "                if y[idx] != y_predicted:\n",
    "                    update = self.learning_rate * y[idx]\n",
    "                    self.weights += update * xi\n",
    "                    self.bias += update\n",
    "                    misclassifications += 1\n",
    "            \n",
    "            # Store misclassifications for current epoch\n",
    "            self.misclassifications_.append(misclassifications)\n",
    "            if epoch % 10 == 0:\n",
    "                print(f\"Epoch {epoch}/{self.num_epochs}, Misclassifications: {misclassifications}\")\n",
    "\n",
    "            # Check if this is the best epoch so far\n",
    "            if misclassifications < min_misclassifications:\n",
    "                min_misclassifications = misclassifications\n",
    "                best_weights = self.weights.copy()\n",
    "                best_bias = self.bias\n",
    "                best_epoch = epoch\n",
    "                \n",
    "            # Early stopping logic\n",
    "            if misclassifications == 0:\n",
    "                patience += 1\n",
    "                if patience == self.early_stopping_patience:\n",
    "                    print(f\"Stopping the training early at epoch {epoch}.\")\n",
    "                    break\n",
    "                    \n",
    "                print(f\"Zero misclassifications at epoch {epoch}. Waiting for {self.early_stopping_patience - patience} more epochs for confirmation.\")\n",
    "            else:\n",
    "                patience = 0 \n",
    "        \n",
    "        # After training, restore the best weights and bias\n",
    "        print(f\"Restoring model to best epoch {best_epoch} with {min_misclassifications} misclassifications.\")\n",
    "        self.weights = best_weights\n",
    "        self.bias = best_bias\n",
    "\n",
    "    def predict(self, X):\n",
    "        linear_output = np.dot(X, self.weights) + self.bias\n",
    "        return self._activation(linear_output)\n",
    "\n",
    "    def _activation(self, x):\n",
    "        return np.where(x >= 0, 1, -1)\n",
    "\n",
    "    def plot_convergence(self):\n",
    "        plt.plot(range(1, len(self.misclassifications_) + 1), self.misclassifications_)\n",
    "        plt.title('Perceptron Convergence')\n",
    "        plt.xlabel('Epochs')\n",
    "        plt.ylabel('Misclassifications')\n",
    "        plt.show()\n"
   ]
  },
  {
   "cell_type": "markdown",
   "id": "c28ce903-bf16-4e2b-9815-cd86fddb09bc",
   "metadata": {},
   "source": [
    "### Dataset Preparation"
   ]
  },
  {
   "cell_type": "code",
   "execution_count": 3,
   "id": "e7cdb97e-7016-4acc-9bd9-70a1a144db6d",
   "metadata": {},
   "outputs": [],
   "source": [
    "dataset_path = \"diabetes_scale.svm\"\n",
    "X, y = load_svmlight_file(dataset_path)\n",
    "X = X.toarray()"
   ]
  },
  {
   "cell_type": "code",
   "execution_count": 4,
   "id": "85adac86-1fb6-463f-a8fc-ab5cffa2a9de",
   "metadata": {},
   "outputs": [
    {
     "data": {
      "image/png": "[encoded data removed]",
      "text/plain": [
       "<Figure size 432x288 with 1 Axes>"
      ]
     },
     "metadata": {
      "needs_background": "light"
     },
     "output_type": "display_data"
    }
   ],
   "source": [
    "unique, counts = np.unique(y, return_counts=True)\n",
    "\n",
    "plt.bar(unique, counts, tick_label=['Class -1', 'Class +1'], color=['blue', 'orange'])\n",
    "plt.title('Histogram of Instances of Different Classes in the Whole Dataset')\n",
    "plt.xlabel('Class')\n",
    "plt.ylabel('Number of Instances')\n",
    "\n",
    "plt.show()"
   ]
  },
  {
   "cell_type": "code",
   "execution_count": 5,
   "id": "6cbab23f-d9e7-4854-9962-8cdf3149499d",
   "metadata": {},
   "outputs": [],
   "source": [
    "X_train, X_test, y_train, y_test = train_test_split(X, y, test_size=0.1, random_state=42, stratify=y)"
   ]
  },
  {
   "cell_type": "code",
   "execution_count": 6,
   "id": "1f499ace-2bf0-41d5-b764-c66dc787e46d",
   "metadata": {},
   "outputs": [
    {
     "name": "stdout",
     "output_type": "stream",
     "text": [
      "X_train: (691, 8), X_test: (77, 8), y_train: (691,), y_test: (77,)\n"
     ]
    }
   ],
   "source": [
    "print(f\"X_train: {X_train.shape}, X_test: {X_test.shape}, y_train: {y_train.shape}, y_test: {y_test.shape}\")"
   ]
  },
  {
   "cell_type": "code",
   "execution_count": 7,
   "id": "6f9e529f-991d-44c2-b6c7-407f9a386d5c",
   "metadata": {},
   "outputs": [
    {
     "name": "stdout",
     "output_type": "stream",
     "text": [
      "[[-0.882353   0.447236   0.344262  -0.0707071 -0.574468   0.374069\n",
      "  -0.780529  -0.166667 ]\n",
      " [-0.411765   0.125628   0.0819672 -1.        -1.         0.126677\n",
      "  -0.843723  -0.333333 ]\n",
      " [-1.         0.0251256  0.278689  -0.191919  -0.787234   0.028316\n",
      "  -0.863365  -0.9      ]\n",
      " [-0.647059   0.58794    0.0491803 -0.737374  -0.0851064 -0.0700447\n",
      "  -0.814688  -0.9      ]\n",
      " [-1.         0.21608    0.0819672 -0.393939  -0.609929   0.0223547\n",
      "  -0.893254  -0.6      ]]\n",
      "[-1. -1.  1.  1. -1.]\n"
     ]
    }
   ],
   "source": [
    "print(X_train[:5, :])\n",
    "print(y_train[:5])"
   ]
  },
  {
   "cell_type": "code",
   "execution_count": 8,
   "id": "241f329a-716f-4211-b5b8-f37ffa23d501",
   "metadata": {},
   "outputs": [
    {
     "data": {
      "image/png": "[encoded data removed]",
      "text/plain": [
       "<Figure size 432x288 with 1 Axes>"
      ]
     },
     "metadata": {
      "needs_background": "light"
     },
     "output_type": "display_data"
    }
   ],
   "source": [
    "unique, counts = np.unique(y_train, return_counts=True)\n",
    "\n",
    "plt.bar(unique, counts, tick_label=['Class -1', 'Class +1'], color=['blue', 'orange'])\n",
    "plt.title('Histogram of Instances of Different Classes in the Training Dataset')\n",
    "plt.xlabel('Class')\n",
    "plt.ylabel('Number of Instances')\n",
    "\n",
    "plt.show()"
   ]
  },
  {
   "cell_type": "markdown",
   "id": "cc0f2387-a393-4c12-99ee-bc636401609a",
   "metadata": {},
   "source": [
    "### Training\n",
    "\n",
    "Training with different learning rate and choose the model with best performance with appropriate learning rate."
   ]
  },
  {
   "cell_type": "markdown",
   "id": "15327426-87ac-4194-a617-7847e3df5230",
   "metadata": {},
   "source": [
    "#### Learning rate 0.1"
   ]
  },
  {
   "cell_type": "code",
   "execution_count": 15,
   "id": "d36d7aea-e09b-451f-a4a8-11a73ef90555",
   "metadata": {
    "scrolled": true
   },
   "outputs": [
    {
     "name": "stdout",
     "output_type": "stream",
     "text": [
      "Epoch 10/1000, Misclassifications: 195\n",
      "Epoch 20/1000, Misclassifications: 209\n",
      "Epoch 30/1000, Misclassifications: 205\n",
      "Epoch 40/1000, Misclassifications: 206\n",
      "Epoch 50/1000, Misclassifications: 201\n",
      "Epoch 60/1000, Misclassifications: 203\n",
      "Epoch 70/1000, Misclassifications: 208\n",
      "Epoch 80/1000, Misclassifications: 208\n",
      "Epoch 90/1000, Misclassifications: 217\n",
      "Epoch 100/1000, Misclassifications: 211\n",
      "Epoch 110/1000, Misclassifications: 192\n",
      "Epoch 120/1000, Misclassifications: 205\n",
      "Epoch 130/1000, Misclassifications: 208\n",
      "Epoch 140/1000, Misclassifications: 213\n",
      "Epoch 150/1000, Misclassifications: 208\n",
      "Epoch 160/1000, Misclassifications: 210\n",
      "Epoch 170/1000, Misclassifications: 204\n",
      "Epoch 180/1000, Misclassifications: 219\n",
      "Epoch 190/1000, Misclassifications: 201\n",
      "Epoch 200/1000, Misclassifications: 195\n",
      "Epoch 210/1000, Misclassifications: 201\n",
      "Epoch 220/1000, Misclassifications: 209\n",
      "Epoch 230/1000, Misclassifications: 206\n",
      "Epoch 240/1000, Misclassifications: 203\n",
      "Epoch 250/1000, Misclassifications: 204\n",
      "Epoch 260/1000, Misclassifications: 206\n",
      "Epoch 270/1000, Misclassifications: 203\n",
      "Epoch 280/1000, Misclassifications: 201\n",
      "Epoch 290/1000, Misclassifications: 199\n",
      "Epoch 300/1000, Misclassifications: 198\n",
      "Epoch 310/1000, Misclassifications: 201\n",
      "Epoch 320/1000, Misclassifications: 210\n",
      "Epoch 330/1000, Misclassifications: 204\n",
      "Epoch 340/1000, Misclassifications: 206\n",
      "Epoch 350/1000, Misclassifications: 202\n",
      "Epoch 360/1000, Misclassifications: 195\n",
      "Epoch 370/1000, Misclassifications: 193\n",
      "Epoch 380/1000, Misclassifications: 209\n",
      "Epoch 390/1000, Misclassifications: 211\n",
      "Epoch 400/1000, Misclassifications: 194\n",
      "Epoch 410/1000, Misclassifications: 195\n",
      "Epoch 420/1000, Misclassifications: 197\n",
      "Epoch 430/1000, Misclassifications: 200\n",
      "Epoch 440/1000, Misclassifications: 201\n",
      "Epoch 450/1000, Misclassifications: 196\n",
      "Epoch 460/1000, Misclassifications: 208\n",
      "Epoch 470/1000, Misclassifications: 210\n",
      "Epoch 480/1000, Misclassifications: 201\n",
      "Epoch 490/1000, Misclassifications: 213\n",
      "Epoch 500/1000, Misclassifications: 197\n",
      "Epoch 510/1000, Misclassifications: 202\n",
      "Epoch 520/1000, Misclassifications: 207\n",
      "Epoch 530/1000, Misclassifications: 209\n",
      "Epoch 540/1000, Misclassifications: 202\n",
      "Epoch 550/1000, Misclassifications: 211\n",
      "Epoch 560/1000, Misclassifications: 206\n",
      "Epoch 570/1000, Misclassifications: 202\n",
      "Epoch 580/1000, Misclassifications: 211\n",
      "Epoch 590/1000, Misclassifications: 206\n",
      "Epoch 600/1000, Misclassifications: 208\n",
      "Epoch 610/1000, Misclassifications: 208\n",
      "Epoch 620/1000, Misclassifications: 199\n",
      "Epoch 630/1000, Misclassifications: 203\n",
      "Epoch 640/1000, Misclassifications: 215\n",
      "Epoch 650/1000, Misclassifications: 206\n",
      "Epoch 660/1000, Misclassifications: 201\n",
      "Epoch 670/1000, Misclassifications: 204\n",
      "Epoch 680/1000, Misclassifications: 194\n",
      "Epoch 690/1000, Misclassifications: 207\n",
      "Epoch 700/1000, Misclassifications: 204\n",
      "Epoch 710/1000, Misclassifications: 204\n",
      "Epoch 720/1000, Misclassifications: 209\n",
      "Epoch 730/1000, Misclassifications: 203\n",
      "Epoch 740/1000, Misclassifications: 201\n",
      "Epoch 750/1000, Misclassifications: 215\n",
      "Epoch 760/1000, Misclassifications: 205\n",
      "Epoch 770/1000, Misclassifications: 210\n",
      "Epoch 780/1000, Misclassifications: 207\n",
      "Epoch 790/1000, Misclassifications: 205\n",
      "Epoch 800/1000, Misclassifications: 208\n",
      "Epoch 810/1000, Misclassifications: 214\n",
      "Epoch 820/1000, Misclassifications: 201\n",
      "Epoch 830/1000, Misclassifications: 197\n",
      "Epoch 840/1000, Misclassifications: 207\n",
      "Epoch 850/1000, Misclassifications: 202\n",
      "Epoch 860/1000, Misclassifications: 205\n",
      "Epoch 870/1000, Misclassifications: 193\n",
      "Epoch 880/1000, Misclassifications: 200\n",
      "Epoch 890/1000, Misclassifications: 209\n",
      "Epoch 900/1000, Misclassifications: 199\n",
      "Epoch 910/1000, Misclassifications: 207\n",
      "Epoch 920/1000, Misclassifications: 210\n",
      "Epoch 930/1000, Misclassifications: 207\n",
      "Epoch 940/1000, Misclassifications: 195\n",
      "Epoch 950/1000, Misclassifications: 208\n",
      "Epoch 960/1000, Misclassifications: 204\n",
      "Epoch 970/1000, Misclassifications: 189\n",
      "Epoch 980/1000, Misclassifications: 211\n",
      "Epoch 990/1000, Misclassifications: 207\n",
      "Epoch 1000/1000, Misclassifications: 207\n",
      "Restoring model to best epoch 403 with 189 misclassifications.\n"
     ]
    }
   ],
   "source": [
    "perceptron = Perceptron(learning_rate=0.1, num_epochs=1000)\n",
    "perceptron.fit(X_train, y_train)"
   ]
  },
  {
   "cell_type": "code",
   "execution_count": 16,
   "id": "82418e7d-c51e-4d1b-9500-32ce6c8b599b",
   "metadata": {},
   "outputs": [
    {
     "data": {
      "image/png": "[encoded data removed]",
      "text/plain": [
       "<Figure size 432x288 with 1 Axes>"
      ]
     },
     "metadata": {
      "needs_background": "light"
     },
     "output_type": "display_data"
    }
   ],
   "source": [
    "# Plot the convergence\n",
    "perceptron.plot_convergence()"
   ]
  },
  {
   "cell_type": "code",
   "execution_count": 17,
   "id": "200730b4-6647-47a7-bd96-a2d95309db72",
   "metadata": {},
   "outputs": [
    {
     "name": "stdout",
     "output_type": "stream",
     "text": [
      "Classification Report:\n",
      "              precision    recall  f1-score   support\n",
      "\n",
      "        -1.0       0.59      0.70      0.64        27\n",
      "         1.0       0.82      0.74      0.78        50\n",
      "\n",
      "    accuracy                           0.73        77\n",
      "   macro avg       0.71      0.72      0.71        77\n",
      "weighted avg       0.74      0.73      0.73        77\n",
      "\n"
     ]
    }
   ],
   "source": [
    "# Make predictions on the test set\n",
    "y_pred = perceptron.predict(X_test)\n",
    "\n",
    "# Print classification report\n",
    "print(\"Classification Report:\")\n",
    "print(classification_report(y_test, y_pred))"
   ]
  },
  {
   "cell_type": "markdown",
   "id": "64865f49-ff85-471c-921d-b5dec33708cf",
   "metadata": {},
   "source": [
    "#### Learning rate 0.01"
   ]
  },
  {
   "cell_type": "code",
   "execution_count": 9,
   "id": "1b05510e-dda0-4089-b761-de64eea8785e",
   "metadata": {
    "scrolled": true
   },
   "outputs": [
    {
     "name": "stdout",
     "output_type": "stream",
     "text": [
      "Epoch 10/1000, Misclassifications: 213\n",
      "Epoch 20/1000, Misclassifications: 212\n",
      "Epoch 30/1000, Misclassifications: 208\n",
      "Epoch 40/1000, Misclassifications: 208\n",
      "Epoch 50/1000, Misclassifications: 206\n",
      "Epoch 60/1000, Misclassifications: 211\n",
      "Epoch 70/1000, Misclassifications: 209\n",
      "Epoch 80/1000, Misclassifications: 197\n",
      "Epoch 90/1000, Misclassifications: 205\n",
      "Epoch 100/1000, Misclassifications: 201\n",
      "Epoch 110/1000, Misclassifications: 201\n",
      "Epoch 120/1000, Misclassifications: 215\n",
      "Epoch 130/1000, Misclassifications: 209\n",
      "Epoch 140/1000, Misclassifications: 205\n",
      "Epoch 150/1000, Misclassifications: 207\n",
      "Epoch 160/1000, Misclassifications: 198\n",
      "Epoch 170/1000, Misclassifications: 213\n",
      "Epoch 180/1000, Misclassifications: 208\n",
      "Epoch 190/1000, Misclassifications: 200\n",
      "Epoch 200/1000, Misclassifications: 202\n",
      "Epoch 210/1000, Misclassifications: 200\n",
      "Epoch 220/1000, Misclassifications: 199\n",
      "Epoch 230/1000, Misclassifications: 203\n",
      "Epoch 240/1000, Misclassifications: 207\n",
      "Epoch 250/1000, Misclassifications: 199\n",
      "Epoch 260/1000, Misclassifications: 216\n",
      "Epoch 270/1000, Misclassifications: 203\n",
      "Epoch 280/1000, Misclassifications: 195\n",
      "Epoch 290/1000, Misclassifications: 207\n",
      "Epoch 300/1000, Misclassifications: 209\n",
      "Epoch 310/1000, Misclassifications: 216\n",
      "Epoch 320/1000, Misclassifications: 204\n",
      "Epoch 330/1000, Misclassifications: 199\n",
      "Epoch 340/1000, Misclassifications: 216\n",
      "Epoch 350/1000, Misclassifications: 212\n",
      "Epoch 360/1000, Misclassifications: 206\n",
      "Epoch 370/1000, Misclassifications: 201\n",
      "Epoch 380/1000, Misclassifications: 207\n",
      "Epoch 390/1000, Misclassifications: 196\n",
      "Epoch 400/1000, Misclassifications: 197\n",
      "Epoch 410/1000, Misclassifications: 204\n",
      "Epoch 420/1000, Misclassifications: 212\n",
      "Epoch 430/1000, Misclassifications: 208\n",
      "Epoch 440/1000, Misclassifications: 202\n",
      "Epoch 450/1000, Misclassifications: 203\n",
      "Epoch 460/1000, Misclassifications: 202\n",
      "Epoch 470/1000, Misclassifications: 210\n",
      "Epoch 480/1000, Misclassifications: 204\n",
      "Epoch 490/1000, Misclassifications: 202\n",
      "Epoch 500/1000, Misclassifications: 202\n",
      "Epoch 510/1000, Misclassifications: 203\n",
      "Epoch 520/1000, Misclassifications: 197\n",
      "Epoch 530/1000, Misclassifications: 197\n",
      "Epoch 540/1000, Misclassifications: 199\n",
      "Epoch 550/1000, Misclassifications: 204\n",
      "Epoch 560/1000, Misclassifications: 206\n",
      "Epoch 570/1000, Misclassifications: 217\n",
      "Epoch 580/1000, Misclassifications: 207\n",
      "Epoch 590/1000, Misclassifications: 203\n",
      "Epoch 600/1000, Misclassifications: 214\n",
      "Epoch 610/1000, Misclassifications: 206\n",
      "Epoch 620/1000, Misclassifications: 203\n",
      "Epoch 630/1000, Misclassifications: 200\n",
      "Epoch 640/1000, Misclassifications: 211\n",
      "Epoch 650/1000, Misclassifications: 203\n",
      "Epoch 660/1000, Misclassifications: 213\n",
      "Epoch 670/1000, Misclassifications: 213\n",
      "Epoch 680/1000, Misclassifications: 203\n",
      "Epoch 690/1000, Misclassifications: 198\n",
      "Epoch 700/1000, Misclassifications: 206\n",
      "Epoch 710/1000, Misclassifications: 206\n",
      "Epoch 720/1000, Misclassifications: 210\n",
      "Epoch 730/1000, Misclassifications: 205\n",
      "Epoch 740/1000, Misclassifications: 211\n",
      "Epoch 750/1000, Misclassifications: 202\n",
      "Epoch 760/1000, Misclassifications: 205\n",
      "Epoch 770/1000, Misclassifications: 200\n",
      "Epoch 780/1000, Misclassifications: 206\n",
      "Epoch 790/1000, Misclassifications: 207\n",
      "Epoch 800/1000, Misclassifications: 199\n",
      "Epoch 810/1000, Misclassifications: 206\n",
      "Epoch 820/1000, Misclassifications: 201\n",
      "Epoch 830/1000, Misclassifications: 202\n",
      "Epoch 840/1000, Misclassifications: 213\n",
      "Epoch 850/1000, Misclassifications: 209\n",
      "Epoch 860/1000, Misclassifications: 205\n",
      "Epoch 870/1000, Misclassifications: 208\n",
      "Epoch 880/1000, Misclassifications: 197\n",
      "Epoch 890/1000, Misclassifications: 209\n",
      "Epoch 900/1000, Misclassifications: 203\n",
      "Epoch 910/1000, Misclassifications: 211\n",
      "Epoch 920/1000, Misclassifications: 212\n",
      "Epoch 930/1000, Misclassifications: 210\n",
      "Epoch 940/1000, Misclassifications: 204\n",
      "Epoch 950/1000, Misclassifications: 201\n",
      "Epoch 960/1000, Misclassifications: 206\n",
      "Epoch 970/1000, Misclassifications: 199\n",
      "Epoch 980/1000, Misclassifications: 204\n",
      "Epoch 990/1000, Misclassifications: 204\n",
      "Epoch 1000/1000, Misclassifications: 207\n",
      "Restoring model to best epoch 4 with 183 misclassifications.\n"
     ]
    }
   ],
   "source": [
    "perceptron = Perceptron(learning_rate=0.01, num_epochs=1000)\n",
    "perceptron.fit(X_train, y_train)"
   ]
  },
  {
   "cell_type": "code",
   "execution_count": 10,
   "id": "e52deb36-7234-40fe-a39e-b05f98dfc249",
   "metadata": {},
   "outputs": [
    {
     "data": {
      "image/png": "[encoded data removed]",
      "text/plain": [
       "<Figure size 432x288 with 1 Axes>"
      ]
     },
     "metadata": {
      "needs_background": "light"
     },
     "output_type": "display_data"
    }
   ],
   "source": [
    "# Plot the convergence\n",
    "perceptron.plot_convergence()"
   ]
  },
  {
   "cell_type": "code",
   "execution_count": 11,
   "id": "44dea004-359c-4f1a-9d64-734f5eea796d",
   "metadata": {},
   "outputs": [
    {
     "name": "stdout",
     "output_type": "stream",
     "text": [
      "Classification Report:\n",
      "              precision    recall  f1-score   support\n",
      "\n",
      "        -1.0       0.68      0.63      0.65        27\n",
      "         1.0       0.81      0.84      0.82        50\n",
      "\n",
      "    accuracy                           0.77        77\n",
      "   macro avg       0.74      0.73      0.74        77\n",
      "weighted avg       0.76      0.77      0.76        77\n",
      "\n"
     ]
    }
   ],
   "source": [
    "# Make predictions on the test set\n",
    "y_pred = perceptron.predict(X_test)\n",
    "\n",
    "# Print classification report\n",
    "print(\"Classification Report:\")\n",
    "print(classification_report(y_test, y_pred))"
   ]
  },
  {
   "cell_type": "markdown",
   "id": "6a7c161f-781c-4214-8257-7cdb1d1fa968",
   "metadata": {},
   "source": [
    "#### Learning Rate 0.001"
   ]
  },
  {
   "cell_type": "code",
   "execution_count": 12,
   "id": "714e30d7-57cf-471d-939f-bfca89e692cd",
   "metadata": {
    "scrolled": true
   },
   "outputs": [
    {
     "name": "stdout",
     "output_type": "stream",
     "text": [
      "Epoch 10/1000, Misclassifications: 204\n",
      "Epoch 20/1000, Misclassifications: 207\n",
      "Epoch 30/1000, Misclassifications: 214\n",
      "Epoch 40/1000, Misclassifications: 211\n",
      "Epoch 50/1000, Misclassifications: 210\n",
      "Epoch 60/1000, Misclassifications: 201\n",
      "Epoch 70/1000, Misclassifications: 215\n",
      "Epoch 80/1000, Misclassifications: 202\n",
      "Epoch 90/1000, Misclassifications: 208\n",
      "Epoch 100/1000, Misclassifications: 205\n",
      "Epoch 110/1000, Misclassifications: 200\n",
      "Epoch 120/1000, Misclassifications: 217\n",
      "Epoch 130/1000, Misclassifications: 197\n",
      "Epoch 140/1000, Misclassifications: 212\n",
      "Epoch 150/1000, Misclassifications: 208\n",
      "Epoch 160/1000, Misclassifications: 213\n",
      "Epoch 170/1000, Misclassifications: 214\n",
      "Epoch 180/1000, Misclassifications: 211\n",
      "Epoch 190/1000, Misclassifications: 200\n",
      "Epoch 200/1000, Misclassifications: 218\n",
      "Epoch 210/1000, Misclassifications: 209\n",
      "Epoch 220/1000, Misclassifications: 197\n",
      "Epoch 230/1000, Misclassifications: 207\n",
      "Epoch 240/1000, Misclassifications: 212\n",
      "Epoch 250/1000, Misclassifications: 204\n",
      "Epoch 260/1000, Misclassifications: 198\n",
      "Epoch 270/1000, Misclassifications: 204\n",
      "Epoch 280/1000, Misclassifications: 199\n",
      "Epoch 290/1000, Misclassifications: 206\n",
      "Epoch 300/1000, Misclassifications: 203\n",
      "Epoch 310/1000, Misclassifications: 212\n",
      "Epoch 320/1000, Misclassifications: 208\n",
      "Epoch 330/1000, Misclassifications: 196\n",
      "Epoch 340/1000, Misclassifications: 207\n",
      "Epoch 350/1000, Misclassifications: 203\n",
      "Epoch 360/1000, Misclassifications: 207\n",
      "Epoch 370/1000, Misclassifications: 197\n",
      "Epoch 380/1000, Misclassifications: 213\n",
      "Epoch 390/1000, Misclassifications: 201\n",
      "Epoch 400/1000, Misclassifications: 206\n",
      "Epoch 410/1000, Misclassifications: 210\n",
      "Epoch 420/1000, Misclassifications: 199\n",
      "Epoch 430/1000, Misclassifications: 198\n",
      "Epoch 440/1000, Misclassifications: 192\n",
      "Epoch 450/1000, Misclassifications: 202\n",
      "Epoch 460/1000, Misclassifications: 195\n",
      "Epoch 470/1000, Misclassifications: 206\n",
      "Epoch 480/1000, Misclassifications: 212\n",
      "Epoch 490/1000, Misclassifications: 208\n",
      "Epoch 500/1000, Misclassifications: 202\n",
      "Epoch 510/1000, Misclassifications: 210\n",
      "Epoch 520/1000, Misclassifications: 207\n",
      "Epoch 530/1000, Misclassifications: 200\n",
      "Epoch 540/1000, Misclassifications: 198\n",
      "Epoch 550/1000, Misclassifications: 205\n",
      "Epoch 560/1000, Misclassifications: 199\n",
      "Epoch 570/1000, Misclassifications: 213\n",
      "Epoch 580/1000, Misclassifications: 208\n",
      "Epoch 590/1000, Misclassifications: 209\n",
      "Epoch 600/1000, Misclassifications: 201\n",
      "Epoch 610/1000, Misclassifications: 207\n",
      "Epoch 620/1000, Misclassifications: 209\n",
      "Epoch 630/1000, Misclassifications: 210\n",
      "Epoch 640/1000, Misclassifications: 206\n",
      "Epoch 650/1000, Misclassifications: 206\n",
      "Epoch 660/1000, Misclassifications: 212\n",
      "Epoch 670/1000, Misclassifications: 204\n",
      "Epoch 680/1000, Misclassifications: 210\n",
      "Epoch 690/1000, Misclassifications: 201\n",
      "Epoch 700/1000, Misclassifications: 207\n",
      "Epoch 710/1000, Misclassifications: 198\n",
      "Epoch 720/1000, Misclassifications: 202\n",
      "Epoch 730/1000, Misclassifications: 203\n",
      "Epoch 740/1000, Misclassifications: 211\n",
      "Epoch 750/1000, Misclassifications: 204\n",
      "Epoch 760/1000, Misclassifications: 201\n",
      "Epoch 770/1000, Misclassifications: 197\n",
      "Epoch 780/1000, Misclassifications: 199\n",
      "Epoch 790/1000, Misclassifications: 214\n",
      "Epoch 800/1000, Misclassifications: 205\n",
      "Epoch 810/1000, Misclassifications: 200\n",
      "Epoch 820/1000, Misclassifications: 209\n",
      "Epoch 830/1000, Misclassifications: 208\n",
      "Epoch 840/1000, Misclassifications: 206\n",
      "Epoch 850/1000, Misclassifications: 194\n",
      "Epoch 860/1000, Misclassifications: 208\n",
      "Epoch 870/1000, Misclassifications: 203\n",
      "Epoch 880/1000, Misclassifications: 205\n",
      "Epoch 890/1000, Misclassifications: 199\n",
      "Epoch 900/1000, Misclassifications: 194\n",
      "Epoch 910/1000, Misclassifications: 200\n",
      "Epoch 920/1000, Misclassifications: 216\n",
      "Epoch 930/1000, Misclassifications: 206\n",
      "Epoch 940/1000, Misclassifications: 206\n",
      "Epoch 950/1000, Misclassifications: 216\n",
      "Epoch 960/1000, Misclassifications: 198\n",
      "Epoch 970/1000, Misclassifications: 206\n",
      "Epoch 980/1000, Misclassifications: 205\n",
      "Epoch 990/1000, Misclassifications: 195\n",
      "Epoch 1000/1000, Misclassifications: 208\n",
      "Restoring model to best epoch 273 with 187 misclassifications.\n"
     ]
    }
   ],
   "source": [
    "perceptron = Perceptron(learning_rate=0.001, num_epochs=1000)\n",
    "perceptron.fit(X_train, y_train)"
   ]
  },
  {
   "cell_type": "code",
   "execution_count": 13,
   "id": "ba1dfcc8-14cc-4808-84bb-818b3c0db6f7",
   "metadata": {},
   "outputs": [
    {
     "data": {
      "image/png": "[encoded data removed]",
      "text/plain": [
       "<Figure size 432x288 with 1 Axes>"
      ]
     },
     "metadata": {
      "needs_background": "light"
     },
     "output_type": "display_data"
    }
   ],
   "source": [
    "# Plot the convergence\n",
    "perceptron.plot_convergence()"
   ]
  },
  {
   "cell_type": "code",
   "execution_count": 14,
   "id": "7011fe41-0c6c-4cd2-8435-0e657c3f7de3",
   "metadata": {},
   "outputs": [
    {
     "name": "stdout",
     "output_type": "stream",
     "text": [
      "Classification Report:\n",
      "              precision    recall  f1-score   support\n",
      "\n",
      "        -1.0       0.59      0.48      0.53        27\n",
      "         1.0       0.75      0.82      0.78        50\n",
      "\n",
      "    accuracy                           0.70        77\n",
      "   macro avg       0.67      0.65      0.66        77\n",
      "weighted avg       0.69      0.70      0.69        77\n",
      "\n"
     ]
    }
   ],
   "source": [
    "# Make predictions on the test set\n",
    "y_pred = perceptron.predict(X_test)\n",
    "\n",
    "# Print classification report\n",
    "print(\"Classification Report:\")\n",
    "print(classification_report(y_test, y_pred))"
   ]
  },
  {
   "cell_type": "code",
   "execution_count": null,
   "id": "b5636a9a-2d03-420b-af98-f35c86ee525a",
   "metadata": {},
   "outputs": [],
   "source": []
  }
 ],
 "metadata": {
  "kernelspec": {
   "display_name": "Python 3 (ipykernel)",
   "language": "python",
   "name": "python3"
  },
  "language_info": {
   "codemirror_mode": {
    "name": "ipython",
    "version": 3
   },
   "file_extension": ".py",
   "mimetype": "text/x-python",
   "name": "python",
   "nbconvert_exporter": "python",
   "pygments_lexer": "ipython3",
   "version": "3.10.4"
  }
 },
 "nbformat": 4,
 "nbformat_minor": 5
}
